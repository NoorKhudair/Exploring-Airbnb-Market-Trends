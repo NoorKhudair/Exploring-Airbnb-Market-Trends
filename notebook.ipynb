{
 "cells": [
  {
   "cell_type": "code",
   "execution_count": 17,
   "id": "1fdc5784-479e-46cb-b05b-68439dcc94a7",
   "metadata": {
    "executionCancelledAt": null,
    "executionTime": 1421,
    "lastExecutedAt": 1734519465979,
    "lastExecutedByKernel": "86e9aeff-d293-42cd-918f-57d374ed43d2",
    "lastScheduledRunId": null,
    "lastSuccessfullyExecutedCode": "# Import necessary packages\nimport pandas as pd\nimport numpy as np\n\n# Begin coding here ...\n# Use as many cells as you like\nairbnb_price=pd.read_csv('data/airbnb_price.csv')\nairbnb_last_review=pd.read_csv('data/airbnb_last_review.tsv', sep='\\t')\nairbnb_room_type=pd.read_excel('data/airbnb_room_type.xlsx')\nprint(airbnb_price.info())\nprint(airbnb_last_review.info())\nprint(airbnb_room_type.info())",
    "outputsMetadata": {
     "0": {
      "height": 443,
      "type": "stream"
     }
    }
   },
   "outputs": [
    {
     "name": "stdout",
     "output_type": "stream",
     "text": [
      "<class 'pandas.core.frame.DataFrame'>\n",
      "RangeIndex: 25209 entries, 0 to 25208\n",
      "Data columns (total 3 columns):\n",
      " #   Column       Non-Null Count  Dtype \n",
      "---  ------       --------------  ----- \n",
      " 0   listing_id   25209 non-null  int64 \n",
      " 1   price        25209 non-null  object\n",
      " 2   nbhood_full  25209 non-null  object\n",
      "dtypes: int64(1), object(2)\n",
      "memory usage: 591.0+ KB\n",
      "None\n",
      "<class 'pandas.core.frame.DataFrame'>\n",
      "RangeIndex: 25209 entries, 0 to 25208\n",
      "Data columns (total 3 columns):\n",
      " #   Column       Non-Null Count  Dtype \n",
      "---  ------       --------------  ----- \n",
      " 0   listing_id   25209 non-null  int64 \n",
      " 1   host_name    25201 non-null  object\n",
      " 2   last_review  25209 non-null  object\n",
      "dtypes: int64(1), object(2)\n",
      "memory usage: 591.0+ KB\n",
      "None\n",
      "<class 'pandas.core.frame.DataFrame'>\n",
      "RangeIndex: 25209 entries, 0 to 25208\n",
      "Data columns (total 3 columns):\n",
      " #   Column       Non-Null Count  Dtype \n",
      "---  ------       --------------  ----- \n",
      " 0   listing_id   25209 non-null  int64 \n",
      " 1   description  25199 non-null  object\n",
      " 2   room_type    25209 non-null  object\n",
      "dtypes: int64(1), object(2)\n",
      "memory usage: 591.0+ KB\n",
      "None\n"
     ]
    }
   ],
   "source": [
    "import pandas as pd\n",
    "import numpy as np\n",
    "\n",
    "airbnb_price=pd.read_csv('Data/airbnb_price.csv')\n",
    "airbnb_last_review=pd.read_csv('Data/airbnb_last_review.tsv', sep='\\t')\n",
    "airbnb_room_type=pd.read_excel('Data/airbnb_room_type.xlsx')\n",
    "print(airbnb_price.info())\n",
    "print(airbnb_last_review.info())\n",
    "print(airbnb_room_type.info())"
   ]
  },
  {
   "cell_type": "markdown",
   "id": "d37b5dd5-9bf6-457a-a4b7-d622f30d353b",
   "metadata": {},
   "source": [
    "## What are the dates of the earliest and most recent reviews? "
   ]
  },
  {
   "cell_type": "code",
   "execution_count": 5,
   "id": "819a58b0-3f26-4531-8512-c7e54107e019",
   "metadata": {
    "executionCancelledAt": null,
    "executionTime": 47,
    "lastExecutedAt": 1734519466026,
    "lastExecutedByKernel": "86e9aeff-d293-42cd-918f-57d374ed43d2",
    "lastScheduledRunId": null,
    "lastSuccessfullyExecutedCode": "airbnb_last_review['last_review']=pd.to_datetime(airbnb_last_review['last_review'])\nairbnb_last_review.sort_values('last_review',inplace=True)\nairbnb_last_review.reset_index(inplace=True,drop=True)\nearliest_review_date=airbnb_last_review['last_review'][0].date()\nrecent_review_date=airbnb_last_review.iloc[-1]['last_review'].date()\n'''\nsolution 2\nfirst_reviewed = listings['last_review_date'].min()\nlast_reviewed = listings['last_review_date'].max()\n'''",
    "outputsMetadata": {
     "0": {
      "height": 59,
      "type": "stream"
     }
    }
   },
   "outputs": [
    {
     "name": "stdout",
     "output_type": "stream",
     "text": [
      "2019-07-09\n"
     ]
    }
   ],
   "source": [
    "airbnb_last_review['last_review']=pd.to_datetime(airbnb_last_review['last_review'])\n",
    "airbnb_last_review.sort_values('last_review',inplace=True)\n",
    "airbnb_last_review.reset_index(inplace=True,drop=True)\n",
    "earliest_review_date=airbnb_last_review['last_review'][0].date()\n",
    "recent_review_date=airbnb_last_review.iloc[-1]['last_review'].date()\n",
    "'''\n",
    "solution 2\n",
    "first_reviewed = listings['last_review_date'].min()\n",
    "last_reviewed = listings['last_review_date'].max()\n",
    "'''\n",
    "print(recent_review_date)"
   ]
  },
  {
   "cell_type": "markdown",
   "id": "9271a10b-ee55-4b6b-8989-a35f61ed0dde",
   "metadata": {},
   "source": [
    "## How many of the listings are private rooms?"
   ]
  },
  {
   "cell_type": "code",
   "execution_count": 7,
   "id": "9740755a-e0d1-464f-9b2d-ba82b5d527cd",
   "metadata": {
    "executionCancelledAt": null,
    "executionTime": 60,
    "lastExecutedAt": 1734519466086,
    "lastExecutedByKernel": "86e9aeff-d293-42cd-918f-57d374ed43d2",
    "lastScheduledRunId": null,
    "lastSuccessfullyExecutedCode": "airbnb_room_type['room_type']=airbnb_room_type['room_type'].str.strip().str.lower()\nprivate_rooms=len(airbnb_room_type[airbnb_room_type['room_type']=='private room'])\n\n",
    "outputsMetadata": {
     "0": {
      "height": 122,
      "type": "stream"
     }
    }
   },
   "outputs": [
    {
     "name": "stdout",
     "output_type": "stream",
     "text": [
      "11356\n"
     ]
    }
   ],
   "source": [
    "airbnb_room_type['room_type']=airbnb_room_type['room_type'].str.strip().str.lower()\n",
    "private_rooms=len(airbnb_room_type[airbnb_room_type['room_type']=='private room'])\n",
    "\n",
    "print(private_rooms)"
   ]
  },
  {
   "cell_type": "markdown",
   "id": "94615939-21a2-4c42-9cc7-49666ecd9e97",
   "metadata": {},
   "source": [
    "## What is the average listing price?"
   ]
  },
  {
   "cell_type": "code",
   "execution_count": 9,
   "id": "fcf69cb2-746d-45d0-96b6-91db4e790555",
   "metadata": {
    "executionCancelledAt": null,
    "executionTime": 59,
    "lastExecutedAt": 1734519466146,
    "lastExecutedByKernel": "86e9aeff-d293-42cd-918f-57d374ed43d2",
    "lastScheduledRunId": null,
    "lastSuccessfullyExecutedCode": "\nairbnb_price['price'] = airbnb_price['price'].str.strip(' dollars').astype(float)\n\naverage_listing_price = airbnb_price['price'].mean()\n\ndf={\n    'first_reviewed': [earliest_review_date],\n    'last_reviewed': [recent_review_date],\n    'nb_private_rooms': [private_rooms],\n    'avg_price': [average_listing_price.round(2)]\n}\nreview_dates = pd.DataFrame(df)",
    "outputsMetadata": {
     "0": {
      "height": 311,
      "type": "stream"
     }
    }
   },
   "outputs": [],
   "source": [
    "\n",
    "airbnb_price['price'] = airbnb_price['price'].str.strip(' dollars').astype(float)\n",
    "\n",
    "average_listing_price = airbnb_price['price'].mean()\n",
    "\n",
    "df={\n",
    "    'first_reviewed': [earliest_review_date],\n",
    "    'last_reviewed': [recent_review_date],\n",
    "    'nb_private_rooms': [private_rooms],\n",
    "    'avg_price': [average_listing_price.round(2)]\n",
    "}\n",
    "review_dates = pd.DataFrame(df)"
   ]
  },
  {
   "cell_type": "code",
   "execution_count": 10,
   "id": "42b9b8a8-6298-4948-add8-b35244347e19",
   "metadata": {
    "executionCancelledAt": null,
    "executionTime": 56,
    "lastExecutedAt": 1734519466202,
    "lastExecutedByKernel": "86e9aeff-d293-42cd-918f-57d374ed43d2",
    "lastScheduledRunId": null,
    "lastSuccessfullyExecutedCode": "review_dates\n",
    "outputsMetadata": {
     "0": {
      "height": 550,
      "tableState": {
       "customFilter": {
        "const": {
         "type": "boolean",
         "valid": true,
         "value": true
        },
        "id": "2c71c2fe-cd58-42f7-95a3-b1cb5964bd14",
        "nodeType": "const"
       },
       "quickFilterText": ""
      },
      "type": "dataFrame"
     }
    }
   },
   "outputs": [
    {
     "data": {
      "text/html": [
       "<div>\n",
       "<style scoped>\n",
       "    .dataframe tbody tr th:only-of-type {\n",
       "        vertical-align: middle;\n",
       "    }\n",
       "\n",
       "    .dataframe tbody tr th {\n",
       "        vertical-align: top;\n",
       "    }\n",
       "\n",
       "    .dataframe thead th {\n",
       "        text-align: right;\n",
       "    }\n",
       "</style>\n",
       "<table border=\"1\" class=\"dataframe\">\n",
       "  <thead>\n",
       "    <tr style=\"text-align: right;\">\n",
       "      <th></th>\n",
       "      <th>first_reviewed</th>\n",
       "      <th>last_reviewed</th>\n",
       "      <th>nb_private_rooms</th>\n",
       "      <th>avg_price</th>\n",
       "    </tr>\n",
       "  </thead>\n",
       "  <tbody>\n",
       "    <tr>\n",
       "      <th>0</th>\n",
       "      <td>2019-01-01</td>\n",
       "      <td>2019-07-09</td>\n",
       "      <td>11356</td>\n",
       "      <td>141.78</td>\n",
       "    </tr>\n",
       "  </tbody>\n",
       "</table>\n",
       "</div>"
      ],
      "text/plain": [
       "  first_reviewed last_reviewed  nb_private_rooms  avg_price\n",
       "0     2019-01-01    2019-07-09             11356     141.78"
      ]
     },
     "execution_count": 10,
     "metadata": {},
     "output_type": "execute_result"
    }
   ],
   "source": [
    "review_dates\n"
   ]
  }
 ],
 "metadata": {
  "colab": {
   "name": "Welcome to DataCamp Workspaces.ipynb",
   "provenance": []
  },
  "editor": "DataLab",
  "kernelspec": {
   "display_name": "Python 3 (ipykernel)",
   "language": "python",
   "name": "python3"
  },
  "language_info": {
   "codemirror_mode": {
    "name": "ipython",
    "version": 3
   },
   "file_extension": ".py",
   "mimetype": "text/x-python",
   "name": "python",
   "nbconvert_exporter": "python",
   "pygments_lexer": "ipython3",
   "version": "3.12.7"
  }
 },
 "nbformat": 4,
 "nbformat_minor": 5
}
